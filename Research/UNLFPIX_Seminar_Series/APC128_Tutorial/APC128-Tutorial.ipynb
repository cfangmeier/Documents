{
 "cells": [
  {
   "cell_type": "markdown",
   "metadata": {
    "slideshow": {
     "slide_type": "subslide"
    }
   },
   "source": [
    "The Analog Pipeline Chip - 128\n",
    "==============================\n",
    "UNLHEP Seminal Series\n",
    "\n",
    "April 21, 2016\n",
    "\n",
    "Presenter: Caleb Fangmeier"
   ]
  },
  {
   "cell_type": "markdown",
   "metadata": {
    "slideshow": {
     "slide_type": "subslide"
    }
   },
   "source": [
    "### Basic Info\n",
    "  - The APC128 is a read-out chip used for buffering and serializing analog data from silicon strip detectors.\n",
    "  - Each chip has 128 parallel channels\n",
    "  - Each channel has a 32 point buffer to sample the incoming waveform"
   ]
  },
  {
   "cell_type": "markdown",
   "metadata": {
    "slideshow": {
     "slide_type": "subslide"
    }
   },
   "source": [
    "### The Good\n",
    "  - Very high Singal-to-noise ratio (~40)\n",
    "  - Flexible design alows multiple modes of operation\n",
    "  - Can be operated very fast (>40MHz sampling frequency )"
   ]
  },
  {
   "cell_type": "markdown",
   "metadata": {
    "slideshow": {
     "slide_type": "subslide"
    }
   },
   "source": [
    "### The Bad\n",
    "  - Complicated Interface\n",
    "  - Difficult to debug\n",
    "  \n",
    "  - Serial readout limits overall readout speed"
   ]
  },
  {
   "cell_type": "markdown",
   "metadata": {
    "slideshow": {
     "slide_type": "slide"
    }
   },
   "source": [
    "### Normal Operation\n",
    "  - Consistently sample the input waveform\n",
    "  - Store analog sample values in buffer pipeline\n",
    "  - When trigger system activates,\n",
    "   - Stop Sampling\n",
    "   - Load sample corresponding to pulse peak into readout pipeline\n",
    "   - Readout all 128 channels sequentially via `AOUT`"
   ]
  },
  {
   "cell_type": "markdown",
   "metadata": {
    "slideshow": {
     "slide_type": "subslide"
    }
   },
   "source": [
    "### Input Signal\n",
    "<img src=\"figures/Signal.png\" alt=\"Drawing\" align=\"center\" style=\"width: 6in;\"/>"
   ]
  },
  {
   "cell_type": "markdown",
   "metadata": {
    "slideshow": {
     "slide_type": "slide"
    }
   },
   "source": [
    "### APC128 Schematic\n",
    "\n",
    "<img src=\"figures/APC128_Schematic.png\" alt=\"Drawing\" align=\"left\" style=\"width: 5in;\"/>\n",
    "<img src=\"figures/Signal.png\" alt=\"Drawing\" align=\"right\" style=\"width: 5in;\"/>\n",
    "\n",
    "----------------------------------------------------------------"
   ]
  },
  {
   "cell_type": "markdown",
   "metadata": {
    "slideshow": {
     "slide_type": "slide"
    }
   },
   "source": [
    "### Operational Amplifier Basics\n",
    "\n",
    "  1. No current flows into the inputs\n",
    "  2. The output can source an infinit amount of current and voltage\n",
    "  3. If $V^+>V^-$, the output swings towards $+\\infty$, else if $V^+<V^-$, the output swings towards $-\\infty$.\n",
    " "
   ]
  },
  {
   "cell_type": "markdown",
   "metadata": {
    "slideshow": {
     "slide_type": "subslide"
    }
   },
   "source": [
    " \n",
    "<img src=\"figures/x2Amplifier.png\" alt=\"Drawing\" align=\"center\" style=\"width: 8in;\"/>\n",
    "\n",
    "----------------------------------------------------------------"
   ]
  },
  {
   "cell_type": "markdown",
   "metadata": {
    "slideshow": {
     "slide_type": "subslide"
    }
   },
   "source": [
    " \n",
    "<img src=\"figures/Charge_Amplifier4.png\" alt=\"Drawing\" align=\"center\" style=\"width: 8in;\"/>\n",
    "\n",
    "----------------------------------------------------------------"
   ]
  },
  {
   "cell_type": "markdown",
   "metadata": {
    "slideshow": {
     "slide_type": "subslide"
    }
   },
   "source": [
    " \n",
    "<img src=\"figures/Charge_Amplifier3.png\" alt=\"Drawing\" align=\"center\" style=\"width: 8in;\"/>\n",
    "\n",
    "----------------------------------------------------------------"
   ]
  },
  {
   "cell_type": "markdown",
   "metadata": {
    "slideshow": {
     "slide_type": "subslide"
    }
   },
   "source": [
    " \n",
    "<img src=\"figures/Charge_Amplifier2.png\" alt=\"Drawing\" align=\"center\" style=\"width: 8in;\"/>\n",
    "\n",
    "----------------------------------------------------------------"
   ]
  },
  {
   "cell_type": "markdown",
   "metadata": {
    "slideshow": {
     "slide_type": "slide"
    }
   },
   "source": [
    "### Operation Stage: Sample Input\n",
    "\n",
    "<img src=\"figures/APC128_Schematic_Action2.png\" alt=\"Drawing\" align=\"right\" style=\"width: 6in;\"/>\n",
    "<font size=\"3pt\">\n",
    "```\n",
    "CAL   : -----------------------------------------\n",
    "SBI   : _--______________________________________\n",
    "SPHI1 : _-___-___-___-___-___-___-___-___-___-___\n",
    "SPHI2 : ___-___-___-___-___-___-___-___-___-___-_\n",
    "SEB   : _________________________________________\n",
    "ISSR  : -----------------------------------------\n",
    "RESET : _________________________________________\n",
    "R12   : -----------------------------------------\n",
    "RBI   : -----------------------------------------\n",
    "RPHI1 : -----------------------------------------\n",
    "RPHI2 : -----------------------------------------\n",
    "LE    : -----------------------------------------\n",
    "```\n",
    "</font>"
   ]
  },
  {
   "cell_type": "markdown",
   "metadata": {
    "slideshow": {
     "slide_type": "subslide"
    }
   },
   "source": [
    "### Operation Stage: Calibration Signal Inject\n",
    "\n",
    "<img src=\"figures/APC128_Schematic_Action1.png\" alt=\"Drawing\" align=\"right\" style=\"width: 6in;\"/>\n",
    "<font size=\"3pt\">\n",
    "```\n",
    "CAL   : -------------------------______________\n",
    "SBI   : _--____________________________________\n",
    "SPHI1 : _-___-___-___-___-___-___-___-___-___-_\n",
    "SPHI2 : ___-___-___-___-___-___-___-___-___-___\n",
    "SEB   : _______________________________________\n",
    "ISSR  : ---------------------------------------\n",
    "RESET : _______________________________________\n",
    "R12   : ---------------------------------------\n",
    "RBI   : ---------------------------------------\n",
    "RPHI1 : ---------------------------------------\n",
    "RPHI2 : ---------------------------------------\n",
    "LE    : ---------------------------------------\n",
    "```\n",
    "</font>"
   ]
  },
  {
   "cell_type": "markdown",
   "metadata": {
    "slideshow": {
     "slide_type": "subslide"
    }
   },
   "source": [
    "### Operation Stage: Charge Shift 1\n",
    "\n",
    "<img src=\"figures/APC128_Schematic_Action3.png\" alt=\"Drawing\" align=\"right\" style=\"width: 6in;\"/>\n",
    "<font size=\"3pt\">\n",
    "```\n",
    "CAL   : ____________________________\n",
    "SBI   : ________________________---_\n",
    "SPHI1 : _____________----_______-___\n",
    "SPHI2 : _____________----_________-_\n",
    "SEB   : ____------------------------\n",
    "ISSR  : -----_______________________\n",
    "RESET : __--------------------------\n",
    "R12   : ------______________________\n",
    "RBI   : ----------------------------\n",
    "RPHI1 : ----------------------------\n",
    "RPHI2 : ----------------------------\n",
    "LE    : ----------------------------\n",
    "```\n",
    "</font>"
   ]
  },
  {
   "cell_type": "markdown",
   "metadata": {
    "slideshow": {
     "slide_type": "subslide"
    }
   },
   "source": [
    "### Operation Stage: Charge Shift 2\n",
    "\n",
    "<img src=\"figures/APC128_Schematic_Action4.png\" alt=\"Drawing\" align=\"right\" style=\"width: 6in;\"/>\n",
    "<font size=\"3pt\">\n",
    "```\n",
    "CAL   : ________________________________\n",
    "SBI   : ________________________________\n",
    "SPHI1 : ________________________________\n",
    "SPHI2 : ________________________________\n",
    "SEB   : ---------------------________---\n",
    "ISSR  : ________________________________\n",
    "RESET : ------__________________________\n",
    "R12   : ________________________________\n",
    "RBI   : --------------------------------\n",
    "RPHI1 : --------------------------------\n",
    "RPHI2 : --------------------------------\n",
    "LE    : --______________________________\n",
    "```\n",
    "</font>"
   ]
  },
  {
   "cell_type": "markdown",
   "metadata": {
    "slideshow": {
     "slide_type": "subslide"
    }
   },
   "source": [
    "### Operation Stage: Readout Setup\n",
    "\n",
    "<img src=\"figures/APC128_Schematic_Action5.png\" alt=\"Drawing\" align=\"right\" style=\"width: 6in;\"/>\n",
    "<font size=\"3pt\">\n",
    "```\n",
    "CAL   : ________________\n",
    "SBI   : ________________\n",
    "SPHI1 : ________________\n",
    "SPHI2 : ________________\n",
    "SEB   : ----------------\n",
    "ISSR  : ________________\n",
    "RESET : ________________\n",
    "R12   : ________________\n",
    "RBI   : --____---_______\n",
    "RPHI1 : ----__--________\n",
    "RPHI2 : ----____________\n",
    "LE    : ____________----\n",
    "```\n",
    "</font>"
   ]
  },
  {
   "cell_type": "markdown",
   "metadata": {
    "slideshow": {
     "slide_type": "subslide"
    }
   },
   "source": [
    "### Operation Stage: Readout\n",
    "\n",
    "<img src=\"figures/APC128_Schematic_Action6.png\" alt=\"Drawing\" align=\"right\" style=\"width: 6in;\"/>\n",
    "<font size=\"3pt\">\n",
    "```\n",
    "CAL   : _______________________\n",
    "SBI   : _______________________\n",
    "SPHI1 : _______________________\n",
    "SPHI2 : _______________________\n",
    "SEB   : -----------------------\n",
    "ISSR  : _______________________\n",
    "RESET : _______________________\n",
    "R12   : _______________________\n",
    "RBI   : _______________________\n",
    "RPHI1 : ______________________-\n",
    "RPHI2 : _--------------------__\n",
    "LE    : -----------------------\n",
    "```\n",
    "</font>"
   ]
  },
  {
   "cell_type": "markdown",
   "metadata": {
    "slideshow": {
     "slide_type": "slide"
    }
   },
   "source": [
    "## Output Signal\n",
    "\n",
    "  - Signal gets converted into a differential signal pair by off-chip circuitry\n",
    "  - Differential signal gets pushed down a CAT-5 cable to ADCs out of the beam.\n",
    "<img src=\"figures/step_pattern.png\" alt=\"Drawing\" align=\"center\" style=\"width: 6in;\"/>"
   ]
  }
 ],
 "metadata": {
  "celltoolbar": "Slideshow",
  "kernelspec": {
   "display_name": "Python 3",
   "language": "python",
   "name": "python3"
  },
  "language_info": {
   "codemirror_mode": {
    "name": "ipython",
    "version": 3
   },
   "file_extension": ".py",
   "mimetype": "text/x-python",
   "name": "python",
   "nbconvert_exporter": "python",
   "pygments_lexer": "ipython3",
   "version": "3.5.1"
  }
 },
 "nbformat": 4,
 "nbformat_minor": 0
}
